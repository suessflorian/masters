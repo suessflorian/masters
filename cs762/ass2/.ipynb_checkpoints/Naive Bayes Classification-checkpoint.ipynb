{
 "cells": [
  {
   "cell_type": "markdown",
   "id": "a2dd0c12",
   "metadata": {},
   "source": [
    "# Report\n",
    "The following few sections give direct answers to the five given questions, however I do put in a bit of effort to document the code as I go for future reference too allowing a very concise report.\n",
    "\n",
    "### Motivation\n",
    "I have [built three distinct models](http://localhost:8888/notebooks/Naive%20Bayes%20Classification.ipynb#Bayes-Naive-Classification), that effectively are sequential iterations, starting of at the baseline model. I thought it made sense to iterate on how I interpretted the \"baseline\" model described in the assignment spec and build two subsequent models with tunable improvements that are exposed as tunable hyperparameters prime for searching.\n",
    "\n",
    "The majority of libraries used re: textual classififcation, are inspired directly from [sklearns's chapter on \"Working With Text Data\"](https://scikit-learn.org/stable/tutorial/text_analytics/working_with_text_data.html). The crux here though was my deferring of \"selecting\" these hyper parameters, critically treating preprocessing hyperparameters the same and naturally defering the investigation to a [`GridSearchCV`](https://scikit-learn.org/stable/modules/generated/sklearn.model_selection.GridSearchCV.html).\n",
    "\n",
    "### How I Represent and Preprocess the Data\n",
    "The \"review-only\" models specifically tokenised the N-gram words within, and translated respectively (wrt. row) the \"review\" into a word count vector (as per described in the assignment spec re: baseline). Tunable is the actual amount of \"counted\" words, we can take a percentage (`max_feature`) of the vocabulary seen and only take the top `X`% words (ordered by frequency). We also have a tunable transformation available, where we either do nothing to these count vectors or we normalise the vectors in a way that follows sklearns' [TFIDF transform](https://scikit-learn.org/stable/modules/generated/sklearn.feature_extraction.text.TfidfTransformer.html); normalizing by term frequency, and possibly in extension, by inverse document frequency (ie, the less the word is mentioned across documents, the more significant it is).\n",
    "\n",
    "In all solutions, the count vectors are used directly as the features for my Bayes' Naive models. Where the final model extends this vector with one extra, discretised into a tunable number of quantiles, feature that determines the `mean_check_in_time`.\n",
    "\n",
    "### The idea and solution implementation for each of the two tasks listed.\n",
    "The ideas for the iterations was to make use of suggestions found from various resources with regards to improving the information captured by the count vectors via preprocessing outlined above and the style of Naive Baye's model used. The most important finding I came across was to simply use TF-IDF transforms on these simple word count vectors (which we're going to find has dissapointing results with this dataset, provided I've applied the transform correctly) and recognising that the dataset provided [was unbalanced](http://localhost:8888/notebooks/Naive%20Bayes%20Classification.ipynb#Distribution-of-Categories), hence having the underlying Naive Baye's classifier tunable between [ComplementNB](https://scikit-learn.org/stable/modules/generated/sklearn.naive_bayes.ComplementNB.html) and the vanilla [MultinomialNB](https://scikit-learn.org/stable/modules/generated/sklearn.naive_bayes.MultinomialNB.html), both also exposing the laplace smoothing constant magnitude as another tunable hyperparameter.\n",
    "\n",
    "### The evaluation procedure (e.g., cross-validation or training/validation split).\n",
    "We keep it simple here, doing a 95-5 split, proportion motivated by the general idea of covering more vocabulary. The 95 here is used in an iterative cross validation method to search our pretty sizable hyperparameter space.\n",
    "\n",
    "We then run these models on the unseen 5% of the dataset for some observations re: final $T_{\\text{approx}}$\n",
    "\n",
    "### The training/validation results.\n",
    "We can see the results directly [here](https://scikit-learn.org/stable/modules/generated/sklearn.naive_bayes.MultinomialNB.html), but for the most part I was very dissapointed to see what the hyper parameter search showed; that the TF, or TF-IDF transforms provided no help and although our three models consistently perform in the order expected, our hyperparameter choice seems to favour the simplest multinomial method on a word count vector with the default smoothing constants, only really tuning the laplace smoothing constant which goes against what I expect given the reading I've done."
   ]
  },
  {
   "cell_type": "markdown",
   "id": "8f1f6877",
   "metadata": {},
   "source": [
    "# Summary\n",
    "The notebook is structured throughout with three different classifiers in mind; **baseline** \"review-only\", **improved** \"review-only\" and **final**.\n",
    "\n",
    "- **Baseline** \"review-only\" classifier represents locally the baseline model to beat.\n",
    "- **Improved** \"review-only\" classifier represents a model that utulises a series of techniques discussed in [Rennie at al. (2003) \"Tackling the Poor Assumptions of Naive Bayes Text Classifiers\"](https://people.csail.mit.edu/jrennie/papers/icml03-nb.pdf) and others found in `sklearn`.\n",
    "- **Final** classifier represents the competitive classifier that takes into consideration all features made available to us.\n",
    "\n",
    "We will in sequence assemble all of these models, ensuring that each satisfies the sklearn [estimator api](https://scikit-learn.org/stable/developers/develop.html#estimators) which allows us to abstract away the details (if applicable) of a models dataset preprocessing and fitting process behind an interface that exposes hyperparameters, while ensuring consistent preprocessing techniques are applied to the prediction of the testing datasets. This allows us to couple hyperparameters related to preprocessing and fitting of the various Naive Bayes's classifiers in a friendly way when we do a hyperparameter search and evaluation of the model.\n",
    "\n",
    "_Ofcourse the estimator api implementations will be opinionated to the dataset provided - resolving certain expected columns etc..._"
   ]
  },
  {
   "cell_type": "markdown",
   "id": "218b7639",
   "metadata": {},
   "source": [
    "## Import\n",
    "\n",
    "We assumes no missing values on import, given since Kaggle platform shows this."
   ]
  },
  {
   "cell_type": "code",
   "execution_count": 1,
   "id": "1ae0a744",
   "metadata": {},
   "outputs": [
    {
     "data": {
      "text/html": [
       "<div>\n",
       "<style scoped>\n",
       "    .dataframe tbody tr th:only-of-type {\n",
       "        vertical-align: middle;\n",
       "    }\n",
       "\n",
       "    .dataframe tbody tr th {\n",
       "        vertical-align: top;\n",
       "    }\n",
       "\n",
       "    .dataframe thead th {\n",
       "        text-align: right;\n",
       "    }\n",
       "</style>\n",
       "<table border=\"1\" class=\"dataframe\">\n",
       "  <thead>\n",
       "    <tr style=\"text-align: right;\">\n",
       "      <th></th>\n",
       "      <th>ID</th>\n",
       "      <th>name</th>\n",
       "      <th>latitude</th>\n",
       "      <th>longitude</th>\n",
       "      <th>mean_checkin_time</th>\n",
       "      <th>review</th>\n",
       "      <th>category</th>\n",
       "    </tr>\n",
       "  </thead>\n",
       "  <tbody>\n",
       "    <tr>\n",
       "      <th>380</th>\n",
       "      <td>2757</td>\n",
       "      <td>Blue Dream</td>\n",
       "      <td>29.963767</td>\n",
       "      <td>-90.057206</td>\n",
       "      <td>20.0</td>\n",
       "      <td>Good selection of vintage clothing with Pendle...</td>\n",
       "      <td>Shopping</td>\n",
       "    </tr>\n",
       "    <tr>\n",
       "      <th>1680</th>\n",
       "      <td>3373</td>\n",
       "      <td>Sally Beauty Supply</td>\n",
       "      <td>29.944568</td>\n",
       "      <td>-90.133617</td>\n",
       "      <td>21.0</td>\n",
       "      <td>I always find what I'm looking for when I visi...</td>\n",
       "      <td>Shopping</td>\n",
       "    </tr>\n",
       "    <tr>\n",
       "      <th>480</th>\n",
       "      <td>2003</td>\n",
       "      <td>The Hideaway</td>\n",
       "      <td>29.956489</td>\n",
       "      <td>-90.067202</td>\n",
       "      <td>5.5</td>\n",
       "      <td>Great for dancing! Esp on the balcony. It was ...</td>\n",
       "      <td>Nightlife</td>\n",
       "    </tr>\n",
       "    <tr>\n",
       "      <th>266</th>\n",
       "      <td>3529</td>\n",
       "      <td>Bette Bornside</td>\n",
       "      <td>29.965575</td>\n",
       "      <td>-90.049298</td>\n",
       "      <td>17.0</td>\n",
       "      <td>There are closer yarn shops to where I live, b...</td>\n",
       "      <td>Shopping</td>\n",
       "    </tr>\n",
       "    <tr>\n",
       "      <th>775</th>\n",
       "      <td>1749</td>\n",
       "      <td>Subway</td>\n",
       "      <td>29.948698</td>\n",
       "      <td>-90.128646</td>\n",
       "      <td>17.5</td>\n",
       "      <td>Without a doubt the best subway in town. Not o...</td>\n",
       "      <td>Restaurants</td>\n",
       "    </tr>\n",
       "    <tr>\n",
       "      <th>807</th>\n",
       "      <td>2269</td>\n",
       "      <td>Arnaud's French 75 Bar</td>\n",
       "      <td>29.955832</td>\n",
       "      <td>-90.068655</td>\n",
       "      <td>3.0</td>\n",
       "      <td>Extremely upscale bar in the french quarter. I...</td>\n",
       "      <td>Restaurants</td>\n",
       "    </tr>\n",
       "    <tr>\n",
       "      <th>1594</th>\n",
       "      <td>1541</td>\n",
       "      <td>Leather Lily Shoe Repair</td>\n",
       "      <td>29.971534</td>\n",
       "      <td>-90.067334</td>\n",
       "      <td>20.0</td>\n",
       "      <td>Nice guy working out of a small shop.    Did a...</td>\n",
       "      <td>Shopping</td>\n",
       "    </tr>\n",
       "    <tr>\n",
       "      <th>1852</th>\n",
       "      <td>596</td>\n",
       "      <td>The Shard Shop</td>\n",
       "      <td>29.920959</td>\n",
       "      <td>-90.096454</td>\n",
       "      <td>20.0</td>\n",
       "      <td>We had a family day at the Shard Shop and it w...</td>\n",
       "      <td>Shopping</td>\n",
       "    </tr>\n",
       "    <tr>\n",
       "      <th>2138</th>\n",
       "      <td>1670</td>\n",
       "      <td>Rite Aid</td>\n",
       "      <td>29.946854</td>\n",
       "      <td>-90.129555</td>\n",
       "      <td>16.0</td>\n",
       "      <td>Meh is right. Always someone seedy outside wai...</td>\n",
       "      <td>Shopping</td>\n",
       "    </tr>\n",
       "    <tr>\n",
       "      <th>204</th>\n",
       "      <td>1538</td>\n",
       "      <td>Gabrielle Restaurant</td>\n",
       "      <td>29.969077</td>\n",
       "      <td>-90.080035</td>\n",
       "      <td>3.0</td>\n",
       "      <td>Everything was wonderful--service,food, value....</td>\n",
       "      <td>Restaurants</td>\n",
       "    </tr>\n",
       "  </tbody>\n",
       "</table>\n",
       "</div>"
      ],
      "text/plain": [
       "        ID                      name   latitude  longitude  mean_checkin_time   \n",
       "380   2757                Blue Dream  29.963767 -90.057206               20.0  \\\n",
       "1680  3373       Sally Beauty Supply  29.944568 -90.133617               21.0   \n",
       "480   2003              The Hideaway  29.956489 -90.067202                5.5   \n",
       "266   3529            Bette Bornside  29.965575 -90.049298               17.0   \n",
       "775   1749                    Subway  29.948698 -90.128646               17.5   \n",
       "807   2269    Arnaud's French 75 Bar  29.955832 -90.068655                3.0   \n",
       "1594  1541  Leather Lily Shoe Repair  29.971534 -90.067334               20.0   \n",
       "1852   596            The Shard Shop  29.920959 -90.096454               20.0   \n",
       "2138  1670                  Rite Aid  29.946854 -90.129555               16.0   \n",
       "204   1538      Gabrielle Restaurant  29.969077 -90.080035                3.0   \n",
       "\n",
       "                                                 review     category  \n",
       "380   Good selection of vintage clothing with Pendle...     Shopping  \n",
       "1680  I always find what I'm looking for when I visi...     Shopping  \n",
       "480   Great for dancing! Esp on the balcony. It was ...    Nightlife  \n",
       "266   There are closer yarn shops to where I live, b...     Shopping  \n",
       "775   Without a doubt the best subway in town. Not o...  Restaurants  \n",
       "807   Extremely upscale bar in the french quarter. I...  Restaurants  \n",
       "1594  Nice guy working out of a small shop.    Did a...     Shopping  \n",
       "1852  We had a family day at the Shard Shop and it w...     Shopping  \n",
       "2138  Meh is right. Always someone seedy outside wai...     Shopping  \n",
       "204   Everything was wonderful--service,food, value....  Restaurants  "
      ]
     },
     "execution_count": 1,
     "metadata": {},
     "output_type": "execute_result"
    }
   ],
   "source": [
    "import pandas as pd\n",
    "from sklearn.model_selection import train_test_split\n",
    "\n",
    "dataset = pd.read_csv('dataset/train.csv')\n",
    "[training, testing] = train_test_split(dataset, shuffle=True, train_size=0.90, test_size=0.10)\n",
    "\n",
    "training.head(10)"
   ]
  },
  {
   "cell_type": "markdown",
   "id": "ba1e9244",
   "metadata": {},
   "source": [
    "# Distribution of Categories"
   ]
  },
  {
   "cell_type": "code",
   "execution_count": 2,
   "id": "7fbb42d6",
   "metadata": {},
   "outputs": [
    {
     "data": {
      "text/plain": [
       "<Axes: xlabel='category'>"
      ]
     },
     "execution_count": 2,
     "metadata": {},
     "output_type": "execute_result"
    },
    {
     "data": {
      "image/png": "[encoded data removed]",
      "text/plain": [
       "<Figure size 640x480 with 1 Axes>"
      ]
     },
     "metadata": {},
     "output_type": "display_data"
    }
   ],
   "source": [
    "dataset['category'].value_counts().plot(kind='bar')"
   ]
  },
  {
   "cell_type": "markdown",
   "id": "ae68d044",
   "metadata": {},
   "source": [
    "We can see that we an unbalanced dataset with category `Restaurants` dominating in occurence."
   ]
  },
  {
   "cell_type": "markdown",
   "id": "520de810",
   "metadata": {},
   "source": [
    "# Baseline Classifier\n",
    "- Does not consider any other column than `review`.\n",
    "- Uses the plain [CountVectorizor](https://scikit-learn.org/stable/modules/generated/sklearn.feature_extraction.text.CountVectorizer.html) preprocessing technique without any additional consideration, converting each review document into a count vector, where each point in position $i$ represents a count of a word $i$ wrt. to a dictionary that exhaustively defines the set of words found over all documents."
   ]
  },
  {
   "cell_type": "code",
   "execution_count": 3,
   "id": "24dde4a8",
   "metadata": {},
   "outputs": [],
   "source": [
    "from sklearn.base import BaseEstimator, ClassifierMixin\n",
    "from dataclasses import dataclass\n",
    "from sklearn.feature_extraction.text import CountVectorizer\n",
    "from sklearn.naive_bayes import MultinomialNB\n",
    "from sklearn.metrics import accuracy_score\n",
    "\n",
    "@dataclass\n",
    "class Baseline(BaseEstimator, ClassifierMixin):\n",
    "    _classifier = MultinomialNB()\n",
    "    _vectorizer = CountVectorizer()\n",
    "    \n",
    "    def fit(self, features, labels):\n",
    "        self._vectorizer.fit(features.loc[:,'review'])\n",
    "        count_vectors = self._vectorizer.transform(features.loc[:, 'review'])\n",
    "        \n",
    "        return self._classifier.fit(count_vectors, labels)\n",
    "    \n",
    "    def predict(self, features):\n",
    "        count_vectors = self._vectorizer.transform(features.loc[:, 'review'])\n",
    "        \n",
    "        return self._classifier.predict(count_vectors)\n",
    "    \n",
    "    def score(self, features, true_labels):\n",
    "        predicted_labels = self.predict(features)\n",
    "        \n",
    "        return accuracy_score(true_labels, predicted_labels)"
   ]
  },
  {
   "cell_type": "markdown",
   "id": "b6efd7f4",
   "metadata": {},
   "source": [
    "# Improved \"Review Only\" Classifier\n",
    "\n",
    "Exposing the following tunable hyperparameters;\n",
    "- N-Gram tokenisation of the reviews to use monograms, bigrams or a combination etc...\n",
    "- Normalisation technique used on the word count vector\n",
    "- Classifier, to either use the Multinomial or Complement classifiers\n",
    "- Smoothing constant (aka alpha within context of the two classifers available to be used)\n",
    "- Max features, the percentage of vocabulary to use (top X% percent of the desc ordered words by frequency)"
   ]
  },
  {
   "cell_type": "code",
   "execution_count": 4,
   "id": "c2a0344d",
   "metadata": {},
   "outputs": [],
   "source": [
    "from sklearn.base import BaseEstimator, ClassifierMixin\n",
    "from dataclasses import dataclass\n",
    "from sklearn.feature_extraction.text import CountVectorizer, TfidfTransformer\n",
    "from sklearn.naive_bayes import MultinomialNB, ComplementNB\n",
    "from sklearn.metrics import accuracy_score\n",
    "import pandas as pd\n",
    "\n",
    "@dataclass\n",
    "class Improved(BaseEstimator, ClassifierMixin):\n",
    "    # \"none\", \"tf\", \"tfidf\"\n",
    "    normalization: str = \"none\"\n",
    "    # 2-tuple, as specified in the CountVectorizer ngram_range\n",
    "    n_grams: tuple = (1, 1)\n",
    "    # \"multinomial\", \"complement\"\n",
    "    classifier: str = \"multinomial\"\n",
    "    # smoothing variable within MultinomialNB and ComplementNB\n",
    "    smoothing: float = 1.0\n",
    "    # within the range [0, 1]; the proportion of max features\n",
    "    max_features: float = 1.0\n",
    "\n",
    "    _classifier = None\n",
    "    _vectorizer = None\n",
    "    _normalizer = None\n",
    "\n",
    "    def _normalize_count_vectors(self, count_vectors):\n",
    "        \"\"\"_normalize_count_vectors uses the configured normalization technique\n",
    "        to transform the word count vectors.\n",
    "        \"\"\"\n",
    "        if self._normalizer is not None:\n",
    "            return self._normalizer.transform(count_vectors)\n",
    "        return count_vectors\n",
    "\n",
    "    def _configure_vectorizer(self, reviews):\n",
    "        \"\"\"_configure_vectorizer builds a fitted vectorizer on the given\n",
    "        reviews dependant on both hyperparameters n_grams and max_features.\n",
    "        \"\"\"\n",
    "        global_vectorizer = CountVectorizer(ngram_range=self.n_grams)\n",
    "        global_vectorizer.fit(reviews)\n",
    "        number_words = len(global_vectorizer.vocabulary_)\n",
    "\n",
    "        vectorizer = CountVectorizer(\n",
    "            ngram_range=self.n_grams,\n",
    "            max_features=int(number_words*self.max_features)\n",
    "        )\n",
    "        vectorizer.fit(reviews)\n",
    "        return vectorizer\n",
    "\n",
    "    def _configure_normalizer(self, count_vectors):\n",
    "        \"\"\"_configure_vectorizer builds a fitted vectorizer on the given\n",
    "        reviews dependant on both hyperparameters n_grams and max_features.\n",
    "        \"\"\"\n",
    "        if (self.normalization == \"tf\"):\n",
    "            return TfidfTransformer(\n",
    "                use_idf=False).fit(count_vectors)\n",
    "        elif (self.normalization == \"tfidf\"):\n",
    "            return TfidfTransformer(\n",
    "                use_idf=True).fit(count_vectors)\n",
    "        elif (self.normalization != \"none\"):\n",
    "            raise Exception(\"Unknown normalisation technique\")\n",
    "        return None\n",
    "\n",
    "    def _configure_classifier(self):\n",
    "        if (self.classifier == \"complement\"):\n",
    "            return ComplementNB(alpha=self.smoothing)\n",
    "        elif (self.classifier == \"multinomial\"):\n",
    "            return MultinomialNB(alpha=self.smoothing)\n",
    "        else:\n",
    "            raise Exception(\"Unknown classifier technique\")\n",
    "\n",
    "    def fit(self, features, labels):\n",
    "        \"\"\" fit globally configures the classifier, vectorizer and\n",
    "        normalizer onto the features and labels provided.\n",
    "        \"\"\"\n",
    "        reviews = features.loc[:, 'review']\n",
    "\n",
    "        self._vectorizer = self._configure_vectorizer(reviews)\n",
    "        count_vectors = self._vectorizer.transform(reviews)\n",
    "\n",
    "        self._normalizer = self._configure_normalizer(count_vectors)\n",
    "        self._classifier = self._configure_classifier()\n",
    "\n",
    "        return self._classifier.fit(\n",
    "            self._normalize_count_vectors(count_vectors), labels)\n",
    "\n",
    "    def predict(self, features):\n",
    "        reviews = features.loc[:, 'review']\n",
    "\n",
    "        count_vectors = self._vectorizer.transform(reviews)\n",
    "        normalized_vectors = self._normalize_count_vectors(count_vectors)\n",
    "\n",
    "        return self._classifier.predict(normalized_vectors)\n",
    "\n",
    "    def score(self, features, true_labels):\n",
    "        predicted_labels = self.predict(features)\n",
    "        return accuracy_score(true_labels, predicted_labels)\n",
    "\n",
    "    def get_params(self, deep=True):\n",
    "        return {\n",
    "            'normalization': self.normalization,\n",
    "            'n_grams': self.n_grams,\n",
    "            'classifier': self.classifier,\n",
    "            'smoothing': self.smoothing,\n",
    "            'max_features': self.max_features,\n",
    "        }\n",
    "\n",
    "    def set_params(self, normalization=None, n_grams=None, classifier=None,\n",
    "                   smoothing=None, max_features=None):\n",
    "        if normalization is not None:\n",
    "            self.normalization = normalization\n",
    "\n",
    "        if n_grams is not None:\n",
    "            self.n_grams = n_grams\n",
    "\n",
    "        if classifier is not None:\n",
    "            self.classifier = classifier\n",
    "\n",
    "        if smoothing is not None:\n",
    "            self.smoothing = smoothing\n",
    "\n",
    "        if max_features is not None:\n",
    "            self.max_features = max_features\n",
    "\n",
    "        return self"
   ]
  },
  {
   "cell_type": "markdown",
   "id": "8b861eb1",
   "metadata": {},
   "source": [
    "# Final Classifier\n",
    "We find that using the `mean_checkin_time` has some level of polarisation wrt. categories given that we think can _add_ information of our improved baye's classifier. The issue is to discretize the continuous variable in a way that we can apply the same Naive Bayes' Classifiers."
   ]
  },
  {
   "cell_type": "code",
   "execution_count": 5,
   "id": "01456502",
   "metadata": {},
   "outputs": [
    {
     "data": {
      "image/png": "[encoded data removed]",
      "text/plain": [
       "<Figure size 640x480 with 1 Axes>"
      ]
     },
     "metadata": {},
     "output_type": "display_data"
    }
   ],
   "source": [
    "import seaborn as sns\n",
    "import matplotlib.pyplot as plt\n",
    "\n",
    "sns.boxplot(x='category', y='mean_checkin_time', data=dataset)\n",
    "plt.show()"
   ]
  },
  {
   "cell_type": "markdown",
   "id": "8759a860",
   "metadata": {},
   "source": [
    "We let `Final` be a child class of the `Improved` class here, we overwrite methods `fit` and `predict` to suit the specific case of stitching together the additional column that is the `mean_check_in_time`. We scale the `mean_checkin_time` feature to be comparable to the rest\n",
    "\n",
    "- Quantile Buckets, how many buckets to split `mean_checkin_time` into."
   ]
  },
  {
   "cell_type": "code",
   "execution_count": 6,
   "id": "3c13e0ce",
   "metadata": {},
   "outputs": [],
   "source": [
    "@dataclass\n",
    "class Final(Improved):\n",
    "    quantile_buckets: int = 5\n",
    "\n",
    "    def fit(self, features, labels):\n",
    "        \"\"\" fit globally configures the classifier, vectorizer and\n",
    "        normalizer onto the features and labels provided.\n",
    "        \"\"\"\n",
    "        reviews = features.loc[:, 'review']\n",
    "\n",
    "        self._vectorizer = self._configure_vectorizer(reviews)\n",
    "        count_vectors = self._vectorizer.transform(reviews)\n",
    "\n",
    "        self._normalizer = self._configure_normalizer(count_vectors)\n",
    "        self._classifier = self._configure_classifier()\n",
    "\n",
    "        bucketed_checkin_times = pd.qcut(features['mean_checkin_time'],\n",
    "                                         q=self.quantile_buckets, labels=False, duplicates='drop')\n",
    "        bucketed_checkin_times_reshaped = np.array(bucketed_checkin_times).reshape(-1, 1)\n",
    "\n",
    "        combined_features = np.hstack((\n",
    "            self._normalize_count_vectors(count_vectors).toarray(),\n",
    "            bucketed_checkin_times_reshaped)\n",
    "        )\n",
    "\n",
    "        return self._classifier.fit(combined_features, labels)\n",
    "\n",
    "    def predict(self, features):\n",
    "        reviews = features.loc[:, 'review']\n",
    "\n",
    "        count_vectors = self._vectorizer.transform(reviews)\n",
    "        bucketed_checkin_times = pd.qcut(features['mean_checkin_time'],\n",
    "                                         q=self.quantile_buckets, labels=False, duplicates='drop')\n",
    "        bucketed_checkin_times_reshaped = np.array(bucketed_checkin_times).reshape(-1, 1)\n",
    "\n",
    "        combined_features = np.hstack((\n",
    "            self._normalize_count_vectors(count_vectors).toarray(),\n",
    "            bucketed_checkin_times_reshaped)\n",
    "        )\n",
    "\n",
    "        return self._classifier.predict(combined_features)\n",
    "    \n",
    "    def get_params(self, deep=True):\n",
    "        params = super(Final, self).get_params(deep)\n",
    "        params['quantile_buckets'] = self.quantile_buckets\n",
    "        return params\n",
    "    \n",
    "    def set_params(self, normalization=None, n_grams=None, classifier=None,\n",
    "                   smoothing=None, max_features=None, quantile_buckets=None):\n",
    "        super(Final, self).set_params(normalization, n_grams, classifier, smoothing, max_features)\n",
    "        if quantile_buckets is not None:\n",
    "            self.quantile_buckets = quantile_buckets\n",
    "        return self"
   ]
  },
  {
   "cell_type": "markdown",
   "id": "1be14018",
   "metadata": {},
   "source": [
    "# Hyperparameter Search"
   ]
  },
  {
   "cell_type": "markdown",
   "id": "41ad91ed",
   "metadata": {},
   "source": [
    "## Improved \"Review Only\"\n",
    "We began to seriously run out of patience, hence commented out the n_grams hyperparameter because we consistently saw better results using monograms wrt. tokenisation and taking this hyper parameter out, halfs the total number of models to be built."
   ]
  },
  {
   "cell_type": "code",
   "execution_count": 7,
   "id": "0448a33e",
   "metadata": {},
   "outputs": [
    {
     "name": "stdout",
     "output_type": "stream",
     "text": [
      "{'classifier': 'multinomial', 'max_features': 0.96, 'normalization': 'none', 'smoothing': 0.4}\n"
     ]
    }
   ],
   "source": [
    "from sklearn.model_selection import GridSearchCV\n",
    "\n",
    "param_grid = {\n",
    "    'normalization': [\"none\", \"tf\", \"tfidf\"],\n",
    "#     'n_grams': [(1,1), (2,2)],\n",
    "    'classifier': [\"multinomial\", \"complement\"],\n",
    "    'smoothing': [0.4, 0.45, 0.5, 0.55, 0.6],\n",
    "    'max_features': [0.92,0.94,0.96],\n",
    "}\n",
    "\n",
    "tr_features, tr_labels = training.iloc[:, :-1], training.iloc[:, -1]\n",
    "\n",
    "improved_search = GridSearchCV(\n",
    "    estimator=Improved(),\n",
    "    param_grid=param_grid,\n",
    "    cv=10,\n",
    "    n_jobs=-1,\n",
    ")\n",
    "\n",
    "improved_search.fit(tr_features, tr_labels)\n",
    "print(improved_search.best_params_)\n",
    "\n",
    "def TunedImproved():\n",
    "    return Improved(\n",
    "        normalization=improved_search.best_params_['normalization'],\n",
    "#         n_grams=improved_search.best_params_['n_grams'],\n",
    "        classifier=improved_search.best_params_['classifier'],\n",
    "        smoothing=improved_search.best_params_['smoothing'],\n",
    "        max_features=improved_search.best_params_['max_features']\n",
    "    )"
   ]
  },
  {
   "cell_type": "markdown",
   "id": "dcd40909",
   "metadata": {},
   "source": [
    "# Final"
   ]
  },
  {
   "cell_type": "code",
   "execution_count": 8,
   "id": "aeeba822",
   "metadata": {},
   "outputs": [
    {
     "name": "stderr",
     "output_type": "stream",
     "text": [
      "/Users/floriansuess/.local/share/virtualenvs/ass2-fOAUB4Qj/lib/python3.11/site-packages/joblib/externals/loky/process_executor.py:700: UserWarning: A worker stopped while some jobs were given to the executor. This can be caused by a too short worker timeout or by a memory leak.\n",
      "  warnings.warn(\n"
     ]
    },
    {
     "name": "stdout",
     "output_type": "stream",
     "text": [
      "{'classifier': 'multinomial', 'max_features': 0.92, 'normalization': 'none', 'quantile_buckets': 6, 'smoothing': 0.5}\n"
     ]
    }
   ],
   "source": [
    "from sklearn.model_selection import GridSearchCV\n",
    "import numpy as np\n",
    "\n",
    "\n",
    "param_grid = {\n",
    "    'normalization': [\"none\", \"tf\", \"tfidf\"],\n",
    "#     'n_grams': [(1,1), (2,2)],\n",
    "    'classifier': [\"multinomial\", \"complement\"],\n",
    "    'smoothing': [0.5, 0.55, 0.6, 0.65],\n",
    "    'max_features': [0.92,0.94,0.96],\n",
    "    'quantile_buckets': [6, 7, 8, 9,10]\n",
    "}\n",
    "\n",
    "tr_features, tr_labels = training.iloc[:, :-1], training.iloc[:, -1]\n",
    "clf = Final(quantile_buckets=7)\n",
    "clf.fit(tr_features, tr_labels)\n",
    "clf.get_params()\n",
    "\n",
    "final_search = GridSearchCV(\n",
    "    estimator=Final(),\n",
    "    param_grid=param_grid,\n",
    "    cv=10,\n",
    "    n_jobs=-1,\n",
    ")\n",
    "\n",
    "final_search.fit(tr_features, tr_labels)\n",
    "print(final_search.best_params_)\n",
    "\n",
    "def TunedFinal():\n",
    "    return Final(\n",
    "        normalization=final_search.best_params_['normalization'],\n",
    "#         n_grams=final_search.best_params_['n_grams'],\n",
    "        classifier=final_search.best_params_['classifier'],\n",
    "        smoothing=final_search.best_params_['smoothing'],\n",
    "        max_features=final_search.best_params_['max_features']\n",
    "    )"
   ]
  },
  {
   "cell_type": "markdown",
   "id": "bf2ee6e5",
   "metadata": {},
   "source": [
    "# Evaluation"
   ]
  },
  {
   "cell_type": "code",
   "execution_count": 9,
   "id": "57dd07e2",
   "metadata": {},
   "outputs": [
    {
     "name": "stdout",
     "output_type": "stream",
     "text": [
      "Accuracy of \"baseline\" classifier: %82.74647887323944\n",
      "Accuracy of \"improved\" classifier: %88.73239436619718\n",
      "Accuracy of \"final\" classifier: %89.7887323943662\n"
     ]
    }
   ],
   "source": [
    "from sklearn.metrics import accuracy_score\n",
    "\n",
    "classifiers = [\n",
    "    [\"baseline\", Baseline()],\n",
    "    [\"improved\", TunedImproved()],\n",
    "    [\"final\", TunedFinal()],\n",
    "]\n",
    "\n",
    "tr_features, tr_labels = training.iloc[:, :-1], training.iloc[:, -1]\n",
    "te_features, te_labels = testing.iloc[:, :-1], testing.iloc[:, -1]\n",
    "\n",
    "for clf in classifiers:\n",
    "    name, classifier = clf[0], clf[1]\n",
    "    classifier.fit(tr_features, tr_labels)\n",
    "    print(f\"Accuracy of \\\"{name}\\\" classifier: %{classifier.score(te_features, te_labels)*100}\")"
   ]
  },
  {
   "cell_type": "markdown",
   "id": "c2a101de",
   "metadata": {},
   "source": [
    "# Model Results Publish"
   ]
  },
  {
   "cell_type": "code",
   "execution_count": 10,
   "id": "5cc5d60c",
   "metadata": {},
   "outputs": [],
   "source": [
    "final = TunedFinal()\n",
    "\n",
    "features, labels = dataset.iloc[:, :-1], dataset.iloc[:, -1]\n",
    "final.fit(features, labels)\n",
    "\n",
    "testing = pd.read_csv('dataset/test.csv')\n",
    "predicted_labels = final.predict(testing)\n",
    "\n",
    "testing['category'] = predicted_labels\n",
    "\n",
    "testing.loc[:, ['ID', 'category']].to_csv('dataset/predictions.csv', index=False)"
   ]
  }
 ],
 "metadata": {
  "kernelspec": {
   "display_name": "Python 3 (ipykernel)",
   "language": "python",
   "name": "python3"
  },
  "language_info": {
   "codemirror_mode": {
    "name": "ipython",
    "version": 3
   },
   "file_extension": ".py",
   "mimetype": "text/x-python",
   "name": "python",
   "nbconvert_exporter": "python",
   "pygments_lexer": "ipython3",
   "version": "3.11.2"
  }
 },
 "nbformat": 4,
 "nbformat_minor": 5
}
