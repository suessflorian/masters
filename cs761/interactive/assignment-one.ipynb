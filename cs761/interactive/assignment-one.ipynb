{
 "cells": [
  {
   "cell_type": "markdown",
   "metadata": {},
   "source": [
    "# COMPSCI 761 22S2 Assignment 1\n",
    "\n",
    "- Lecturer: Anna Trofimova\n",
    "- School of Computer Science, The Univerity of Auckland\n",
    "- Last update 29th of July at 18:00pm, 2022\n",
    "$$\n",
    "% macros\n",
    "\\newcommand{\\indep}{\\perp \\!\\!\\!\\perp}\n",
    "$$"
   ]
  },
  {
   "cell_type": "markdown",
   "metadata": {},
   "source": [
    "## Student:\n",
    "\n",
    "You're favourite student; **Florian Suess, fsue534**"
   ]
  },
  {
   "cell_type": "markdown",
   "metadata": {},
   "source": [
    "### Submission\n",
    "This interactive notebook contains the instructions to complete assignment 1; You should submit this notebook with the code and answers in one single file in .ipybn format with name assignment1.ipybn. **Write your name and UPI in the cell above** (to edit the markdown text double-click the cell).\n",
    "\n",
    "There is a maximum file size cap of 5MB, so make sure your submission does not exceed this size. The submitted notebook should contain all your source code and answers. You can add new cells and use markdown text to organise and explain your implementation/answer.\n",
    "\n",
    "Submit your files using CANVAS upload function."
   ]
  },
  {
   "cell_type": "markdown",
   "metadata": {},
   "source": [
    "The submission deadline is **19th of August at 11.59pm, 2022.**"
   ]
  },
  {
   "cell_type": "markdown",
   "metadata": {},
   "source": [
    "### Plagiarism\n",
    "This is an individual assignment. Remember that **all** work submitted for this assignment must be your own **individual** work and no code\n",
    "sharing or copying is allowed. You may use code from the Internet only with suitable attribution\n",
    "of the source in your program. **Do not use public code repositories as your code might be copied.** Keep in mind that sharing parts of assignment solutions is a form of plagiarism. All submitted assignments will be run through plagiarism detection software to detect similarities to other submissions. You should carefully read the UoA policy on academic integrity and plagiarism. "
   ]
  },
  {
   "cell_type": "markdown",
   "metadata": {},
   "source": [
    "### Description\n",
    "\n",
    "This assignment consists of two problems presented in a puzzle game context. For the first problem, you will be implementing a path search problem along with common search algorithms and evaluating their properties. For the second problem, you will be exploring how to define and solve a constraint satisfaction problem. To implement the solutions, you have to use AIPython code that provides you with many implemented classes and examples of their use.  \n",
    "\n",
    "When working with a Jupyter notebook, you can edit the \\*.py files either in the Jupyter interface (in your browser) or with your favorite editor (e.g., PyCharm). Whenever you save a \\*.py file, the notebook will reload their content directly.\n",
    "\n",
    "The libraries that you can use (and need) in this assignment are  the following (run the cell below to import the libraries):"
   ]
  },
  {
   "cell_type": "code",
   "execution_count": 17,
   "metadata": {},
   "outputs": [],
   "source": [
    "import sys\n",
    "sys.path.insert(0, \"./aipython\")\n",
    "import numpy as np\n",
    "from aipython.searchGeneric import *\n",
    "from aipython.searchProblem import *\n",
    "from aipython.cspProblem import *\n",
    "from aipython.cspSearch import *\n",
    "\n",
    "\"\"\"as per https://canvas.auckland.ac.nz/courses/72095/discussion_topics/1126883\"\"\"\n",
    "import time\n",
    "import copy\n",
    "import operator\n",
    "\n",
    "\n",
    "import signal\n",
    "\n",
    "\"\"\"\n",
    "    Added this utility to contain the run time of algorithms programmatically, allows\n",
    "    for clearer cell output logging for assignment marker. Throws Timeout after 5min. \n",
    "\"\"\"\n",
    "class timeout:        \n",
    "    def handle_timeout(self, signum, frame):\n",
    "        raise TimeoutError()\n",
    "    def __enter__(self):\n",
    "        signal.signal(signal.SIGALRM, self.handle_timeout) # listens for SIGALRM signal; call handle_timeout()\n",
    "        signal.alarm(15) # schedules the emittion of a SIGALRM after 5 minutes TODO\n",
    "    def __exit__(self, type, value, traceback):\n",
    "        signal.alarm(0) # cancels scheduled SIGALRM\n",
    "\n",
    "def begin_search(searcher):\n",
    "    try:\n",
    "        with timeout():\n",
    "            searcher.search()\n",
    "    except TimeoutError:\n",
    "        print(\"... TIMEOUT\", searcher.num_expanded, \"paths have been expanded and\", \n",
    "            len(searcher.frontier), \"paths remain in the frontier\")"
   ]
  },
  {
   "cell_type": "markdown",
   "metadata": {},
   "source": [
    "*Tip: If you placed the notebook correctly it should not give you any errors.*\n",
    "\n",
    "*If you think that there are other libraries you might need then send an email to anna.trofimova@auckland.ac.nz to confirm.*"
   ]
  },
  {
   "cell_type": "markdown",
   "metadata": {},
   "source": [
    "### Part 1 - Heuristics [5 marks]\n",
    "\n",
    "This part of the assignment is based on a popular puzzle, Game of Fifteen, also known as 15-puzzle. The game consists of 15 numbered tiles on a four by four grid where one tile is missing. To solve the puzzle, the tiles must be moved so that they are ordered from 1 to 15. The goal state of the puzzle is defined as a multidimensional array of digits#, where 0 represents the missing tile, as follow:"
   ]
  },
  {
   "cell_type": "code",
   "execution_count": 18,
   "metadata": {},
   "outputs": [],
   "source": [
    "goal = [[1, 2, 3, 4], \n",
    "        [5, 6, 7, 8], \n",
    "        [9, 10, 11, 12], \n",
    "        [13, 14, 15, 0]]"
   ]
  },
  {
   "cell_type": "markdown",
   "metadata": {},
   "source": [
    "#### Task 1.1\n",
    "Edit the code below to implement a search problem class representing the Game of Fifteen that uses heuristic based on Manhattan Distance (h1). The class must be implemented by extending the class Search\\_problem. \n",
    "\n",
    "Manhattan Distance between two points $p1$ at $(x1, y1)$ and $p2$ at $(x2, y2)$ is $d_{M}(p1, p2) = |x1 - x2| + |y1 - y2|$\n",
    "\n",
    "*Tip: If you have problems understanding how to overwrite methods take a look at the implementation of Search_problem_from_explicit_graph class in searchProblem.py*\n"
   ]
  },
  {
   "cell_type": "code",
   "execution_count": 29,
   "metadata": {},
   "outputs": [],
   "source": [
    "\n",
    "\"\"\"\n",
    "    Intuition; a board with it's configuration of tiles is a node in my search tree. The neighbours of such board \n",
    "    neighbours of this node being all board configurations that can be derived by 1 move; defined by the legal moves,\n",
    "    that is, the moving of the below/above/left/right tile into the empty slot (at most 4 neighbours).\n",
    "\"\"\"\n",
    "\n",
    "class GameFifteenProblem(Search_problem):\n",
    "    ROWS=4\n",
    "    COLUMNS=4\n",
    "            \n",
    "    def __init__(self, start: list[list[int]], goal: list[list[int]]) -> None:\n",
    "        \"\"\"Sets problem, will throw ValueError if board and/or goal given isn't to spec.\"\"\"\n",
    "        \n",
    "        def must_be_valid_board(board: list[list[int]]) -> None:\n",
    "            values: list[int] = []\n",
    "            if len(board) != self.ROWS:\n",
    "                raise ValueError(f\"the fifteen game boards provided must have exactly {self.ROWS} rows\")\n",
    "            for row in board:\n",
    "                if len(row) != self.COLUMNS:\n",
    "                    raise ValueError(f\"the fifteen game boards provided must have exactly {self.COLUMNS} columns\")\n",
    "                for value in row:\n",
    "                    values.append(value)\n",
    "            \n",
    "            values.sort()\n",
    "            if not np.array_equal(values, [i for i in range(16)]):\n",
    "                raise ValueError(f\"expect only 0,1,...,15 tiles as board input\")\n",
    "\n",
    "        must_be_valid_board(start)\n",
    "        must_be_valid_board(goal)\n",
    "        \n",
    "        self.start_tiles: list[list[int]] = start\n",
    "        self.goal_tiles: list[list[int]] = goal\n",
    "        return\n",
    "\n",
    " \n",
    "\n",
    "    def start_node(self) -> list[list[int]]:\n",
    "        \"\"\"Returns the start node, which in this case is the starting board configuration.\"\"\"\n",
    "        return self.start_tiles\n",
    "    \n",
    "    def is_goal(self, board: list[list[int]]) -> bool:\n",
    "        \"\"\"Returns True if the given board (list of tiles) is the goal, otherwise False.\"\"\"\n",
    "        for y, goal_row in enumerate(self.goal_tiles):\n",
    "            for x, goal_value in enumerate(goal_row):\n",
    "                if board[y][x] != goal_value:\n",
    "                    return False\n",
    "        \n",
    "        return True\n",
    "    \n",
    "    def neighbors(self, board: list[list[int]]) -> list[Arc]:\n",
    "        \"\"\"Returns a list of the arcs for the neighbors of board, note the neighbours are\n",
    "        at most four board configurations that are based on swaps with the 0 tile.\"\"\"\n",
    "        \n",
    "        def swap(board: list[list[int]], zero: tuple[int, int], tile: tuple[int, int]) -> list[list[int]]:\n",
    "            \"\"\"Takes in a board, top left zero indexed (x,y) tuples for candidate titles.\n",
    "            Returns a new board with zero and tile swapped.\"\"\"\n",
    "            swapped_board = copy.deepcopy(board)\n",
    "            \n",
    "            swapped_board[zero[1]][zero[0]] = board[tile[1]][tile[0]]\n",
    "            swapped_board[tile[1]][tile[0]] = 0\n",
    "                \n",
    "            return swapped_board\n",
    "        \n",
    "        neighbours: list[Arc] = []\n",
    "        for y, row in enumerate(board):\n",
    "            for x, value in enumerate(row):\n",
    "                if value == 0:\n",
    "                    \"\"\"can only ever swap the 0 tile with it's immediate neighbours\"\"\"\n",
    "                    zero_tile = (x, y)\n",
    "                    \n",
    "                    if y != 0:\n",
    "                        zero_tile_swapped_up = swap(board, zero_tile, (x, y-1))\n",
    "                        neighbours.append(Arc(board, zero_tile_swapped_up))\n",
    "                        \n",
    "                    if y + 1 != self.ROWS: \n",
    "                        zero_tile_swapped_down = swap(board, zero_tile, (x, y+1))\n",
    "                        neighbours.append(Arc(board, zero_tile_swapped_down))\n",
    "                        \n",
    "                    if x != 0: \n",
    "                        zero_tile_swapped_left = swap(board, zero_tile, (x-1, y))\n",
    "                        neighbours.append(Arc(board, zero_tile_swapped_left))\n",
    "                        \n",
    "                    if x + 1 != self.COLUMNS: \n",
    "                        zero_tile_swapped_right = swap(board, zero_tile, (x+1, y))\n",
    "                        neighbours.append(Arc(board, zero_tile_swapped_right))\n",
    "                    \n",
    "        return neighbours\n",
    "    \n",
    "    def heuristic(self, board: list[list[int]]) -> int:\n",
    "        \"\"\"Returns the heuristic value of the node based on the sum of the Manhattan distances\n",
    "        of each current tile positions to their respective desired goal position.\"\"\"\n",
    "        \n",
    "        heuristic: int = 0\n",
    "        def get_goal_position(target: int) -> tuple[int, int]:\n",
    "            for y, row in enumerate(self.goal_tiles):\n",
    "                for x, value in enumerate(row):\n",
    "                    if value == target:\n",
    "                        return (x, y)\n",
    "\n",
    "        for y, row in enumerate(board):\n",
    "            for x, value in enumerate(row):\n",
    "                if value == 0:\n",
    "                    continue\n",
    "                goal_position = get_goal_position(value)\n",
    "                heuristic += ( abs(x-goal_position[0]) + abs(y-goal_position[1]) )\n",
    "                \n",
    "        return heuristic"
   ]
  },
  {
   "cell_type": "markdown",
   "metadata": {},
   "source": [
    "To validate the correctness of the problem class use the A* searcher algorithm (from searchGeneric.py) to find a solution. \n",
    "\n",
    "*Tip: The cost of the solution should be 9.*"
   ]
  },
  {
   "cell_type": "code",
   "execution_count": 30,
   "metadata": {},
   "outputs": [
    {
     "name": "stdout",
     "output_type": "stream",
     "text": [
      "11 paths have been expanded and 23 paths remain in the frontier\n",
      "Cost:  9\n"
     ]
    }
   ],
   "source": [
    "start = [[1, 2, 3, 4], \n",
    "         [9, 5, 6, 7], \n",
    "         [10, 11, 8, 0], \n",
    "         [13, 14, 15, 12]]\n",
    "\n",
    "puzzle = GameFifteenProblem(start, goal)\n",
    "searcher = AStarSearcher(puzzle)\n",
    "solution = searcher.search()\n",
    "print('Cost: ',  solution.cost)"
   ]
  },
  {
   "cell_type": "markdown",
   "metadata": {},
   "source": [
    "#### Task 1.2 \n",
    "Implement search problem classes representing the Game of Fifteen that use heuristics based on Euclidean Distance (h2) and the number of the inversions of the permutation (h3). The classes must be implemented by extending the class GameFifteenProblem.\n",
    "\n",
    "Euclidean distance between two points $p1$ at $(x1, y1)$ and $p2$ at $(x2, y2)$ is $d_{E}(p1, p2) =  \\sqrt{(x1-x2)^{2}+ (y1-y2)^{2}}$\n",
    "\n",
    "An inversion of a permutation $(t_{1},t_{2},...,t_{n})$ of the elements in a finite n-element set of positive integers $A=\\{1,2,...,n\\}$ is the pair $(t_{j},t_{k})$, where $j<k$ and $t_{j}>t_{k}$.\n",
    "\n",
    "$\\sum_{j=1}^{N} \\sum_{k=j}^{N}    \\{t_{j} > t_{k}: 1, otherwise: 0\\}$, where $N$ is the total number of elements and $t_{i}$ is the value of i-th element."
   ]
  },
  {
   "cell_type": "code",
   "execution_count": 31,
   "metadata": {},
   "outputs": [],
   "source": [
    "class GameFifteenProblemEuclidean(GameFifteenProblem):\n",
    "    def __init__(self, start: list[list[int]], goal: list[list[int]]) -> None:\n",
    "        (super().__init__(start, goal))\n",
    "\n",
    "    def heuristic(self, board: list[list[int]]) -> int:\n",
    "        heuristic: int = 0\n",
    "            \n",
    "        def get_goal_position(target: int) -> tuple[int, int]:\n",
    "            for y, row in enumerate(self.goal_tiles):\n",
    "                for x, value in enumerate(row):\n",
    "                    if value == target:\n",
    "                        return (x, y)\n",
    "\n",
    "        for y, row in enumerate(board):\n",
    "            for x, value in enumerate(row):\n",
    "                if value == 0:\n",
    "                    continue\n",
    "                goal_position = get_goal_position(value)\n",
    "                \n",
    "                heuristic += ( (x-goal_position[0])**2 + (y-goal_position[1])**2 )**(1/2)\n",
    "                \n",
    "        return heuristic"
   ]
  },
  {
   "cell_type": "code",
   "execution_count": 34,
   "metadata": {},
   "outputs": [],
   "source": [
    "class GameFifteenProblemInversions(GameFifteenProblem):\n",
    "    def __init__(self, start, goal):\n",
    "        (super().__init__(start, goal))\n",
    "\n",
    "    def heuristic(self, board: list[list[int]]) -> int:\n",
    "        heuristic: int = 0\n",
    "            \n",
    "        flattened_board: list[int] = []\n",
    "        for row in board:\n",
    "            for value in row:\n",
    "                flattened_board.append(value)\n",
    "        \n",
    "        for j in range(16):\n",
    "            for k in range(j, 16):\n",
    "                left, right = flattened_board[j], flattened_board[k]\n",
    "                if left == 0 or right == 0:\n",
    "                    continue\n",
    "\n",
    "                if left > right:\n",
    "                    heuristic += 1\n",
    "\n",
    "        return heuristic"
   ]
  },
  {
   "cell_type": "markdown",
   "metadata": {},
   "source": [
    "#### Task 1.3\n",
    "Run A* Search algorithm with every heuristic for the following three start states:"
   ]
  },
  {
   "cell_type": "code",
   "execution_count": 35,
   "metadata": {
    "pycharm": {
     "name": "#%%\n"
    }
   },
   "outputs": [
    {
     "name": "stdout",
     "output_type": "stream",
     "text": [
      "Starting Position:  [[1, 2, 8, 3], [5, 6, 7, 4], [9, 15, 14, 11], [13, 10, 12, 0]]\n",
      "=========\n",
      "- Manhattan Heuristic Method: \n",
      "45 paths have been expanded and 85 paths remain in the frontier\n",
      "  Heuristic value of start state:  12\n",
      "  Cost:  14\n",
      "- Euclidean Heuristic Method: \n",
      "196 paths have been expanded and 390 paths remain in the frontier\n",
      "  Heuristic value of start state:  9.65685424949238\n",
      "  Cost:  14\n",
      "- Inversions Heuristic Method: \n",
      "30 paths have been expanded and 62 paths remain in the frontier\n",
      "  Heuristic value of start state:  20\n",
      "  Cost:  14\n",
      "Starting Position:  [[1, 3, 6, 4], [5, 2, 8, 14], [9, 15, 7, 0], [13, 10, 12, 11]]\n",
      "=========\n",
      "- Manhattan Heuristic Method: \n",
      "28 paths have been expanded and 61 paths remain in the frontier\n",
      "  Heuristic value of start state:  17\n",
      "  Cost:  17\n",
      "- Euclidean Heuristic Method: \n",
      "309 paths have been expanded and 704 paths remain in the frontier\n",
      "  Heuristic value of start state:  13.485281374238573\n",
      "  Cost:  17\n",
      "- Inversions Heuristic Method: \n",
      "1029 paths have been expanded and 2422 paths remain in the frontier\n",
      "  Heuristic value of start state:  23\n",
      "  Cost:  17\n",
      "Starting Position:  [[1, 3, 6, 4], [5, 8, 15, 14], [9, 2, 7, 0], [13, 10, 12, 11]]\n",
      "=========\n",
      "- Manhattan Heuristic Method: \n",
      "617 paths have been expanded and 1309 paths remain in the frontier\n",
      "  Heuristic value of start state:  19\n",
      "  Cost:  23\n",
      "- Euclidean Heuristic Method: \n",
      "10083 paths have been expanded and 22192 paths remain in the frontier\n",
      "  Heuristic value of start state:  16.071067811865476\n",
      "  Cost:  23\n",
      "- Inversions Heuristic Method: \n",
      "87774 paths have been expanded and 192844 paths remain in the frontier\n",
      "  Heuristic value of start state:  29\n",
      "  Cost:  27\n"
     ]
    }
   ],
   "source": [
    "# optimal path cost: 14\n",
    "start14 = [[1, 2, 8, 3],\n",
    "           [5, 6, 7, 4],\n",
    "           [9, 15, 14, 11],\n",
    "           [13, 10, 12, 0]]\n",
    "\n",
    "# optimal path cost: 17\n",
    "start17 = [[1, 3, 6, 4],\n",
    "           [5, 2, 8, 14],\n",
    "           [9, 15, 7, 0],\n",
    "           [13, 10, 12, 11]]\n",
    "\n",
    "# optimal path cost: 23\n",
    "start23 = [[1, 3, 6, 4],\n",
    "           [5, 8, 15, 14],\n",
    "           [9, 2, 7, 0],\n",
    "           [13, 10, 12, 11]]\n",
    "\n",
    "for start in [start14, start17, start23]:\n",
    "    print('Starting Position: ', start)\n",
    "    print('=========')\n",
    "\n",
    "    print('- Manhattan Heuristic Method: ')\n",
    "    problem = GameFifteenProblem(start, goal)\n",
    "    searcher = AStarSearcher(GameFifteenProblem(start, goal))\n",
    "    begin_search(searcher)\n",
    "    print (\"  Heuristic value of start state: \", problem.heuristic(start))\n",
    "    if hasattr(searcher, 'solution'): print(\"  Cost: \", searcher.solution.cost)\n",
    "    \n",
    "    print('- Euclidean Heuristic Method: ')\n",
    "    \n",
    "    problem = GameFifteenProblemEuclidean(start, goal)\n",
    "    searcher = AStarSearcher(problem)\n",
    "    begin_search(searcher)\n",
    "    print (\"  Heuristic value of start state: \", problem.heuristic(start))\n",
    "    if hasattr(searcher, 'solution'): print(\"  Cost: \", searcher.solution.cost)\n",
    "    \n",
    "    print('- Inversions Heuristic Method: ')\n",
    "    \n",
    "    problem = GameFifteenProblemInversions(start, goal)\n",
    "    searcher = AStarSearcher(problem)\n",
    "    begin_search(searcher)\n",
    "    print (\"  Heuristic value of start state: \", problem.heuristic(start))\n",
    "    if hasattr(searcher, 'solution'): print(\"  Cost: \", searcher.solution.cost)"
   ]
  },
  {
   "cell_type": "markdown",
   "metadata": {},
   "source": [
    "In each case record in the tables below the heuristic values for the start states, the number of the expanded nodes, and the costs of the solutions."
   ]
  },
  {
   "cell_type": "markdown",
   "metadata": {},
   "source": [
    "| Heuristic | h-value: start14 | h-value: start17  | h-value: start23  |\n",
    "|-----------|------------------|-------------------|-------------------|\n",
    "|Manhattan  | 12               | 17                | 19                | \n",
    "|Euclidean  | 9.65685424949238 | 13.485281374238573| 16.071067811865476| \n",
    "|Inversions | 20               | 23                | 29                | \n",
    "\n",
    "| Heuristic | expanded: start14 | expanded: start17 | expanded: start23 |\n",
    "|-----------|-------------------|-------------------|-------------------|\n",
    "|Manhattan  | 45                | 28                | 617               | \n",
    "|Euclidean  | 196               | 309               | 10083             |  \n",
    "|Inversions | 30                | 1029              | 87774             |  \n",
    "\n",
    "| Heuristic | path cost: start14 | path cost: start17 | path cost: start23 |\n",
    "|-----------|--------------------|--------------------|--------------------|\n",
    "|Manhattan  | 14                 | 17                 | 23                 | \n",
    "|Euclidean  | 14                 | 17                 | 23                 |\n",
    "|Inversions | 14                 | 17                 | 27                 |"
   ]
  },
  {
   "cell_type": "markdown",
   "metadata": {},
   "source": [
    "Comment on the performance of the A* search algorithm with each heuristic based on the results in the tables. Explain which heuristic is better/worse and why."
   ]
  },
  {
   "cell_type": "markdown",
   "metadata": {},
   "source": [
    "## Comment\n",
    "With the over-estimation of the inversions heuristic; we can conclude it's inadmissable, extra evident via sub-optimal path  return for `start23`.\n",
    "\n",
    "With the Manhattan heuristic consistently expanding less nodes in all problems, it appears to be performing better than the Euclidean heuristic - this is in line with my expecation due to the appearant Manhattan heuristic dominance over Euclidean heuristic."
   ]
  },
  {
   "cell_type": "markdown",
   "metadata": {},
   "source": [
    "### Part 2:  Search algorithms [7 marks]\n",
    "\n",
    "*Tip: If you have problems understanding how to overwrite methods take a look at the implementation of AStarSearcher and  Searcher classes in searchGeneric.py*\n",
    "\n",
    "*Tip: To initialize the frontier think of the type of structure used by the algorithm to store generated nodes. If it uses a priority queue use FrontierPQ from serachGeneric.py*\n",
    "\n",
    "#### Task 2.1\n",
    "Implement a class that performs Breadth First Search by extending class Searcher."
   ]
  },
  {
   "cell_type": "code",
   "execution_count": 45,
   "metadata": {},
   "outputs": [],
   "source": [
    "class BreadthFirstSearcher(Searcher):\n",
    "    def __init__(self,  problem: Search_problem) -> None:\n",
    "        super().__init__(problem)\n",
    "    \n",
    "    def initialize_frontier(self) -> None:\n",
    "        self.frontier = []\n",
    "    \n",
    "    def empty_frontier(self) -> bool:\n",
    "        return self.frontier == []\n",
    "\n",
    "    def search(self) -> None:\n",
    "        while not self.empty_frontier():            \n",
    "            path = self.frontier.pop(0) # flip this to pop() and you've got yourself a DFS searcher\n",
    "            self.display(2, \"Expanding:\",path,\"(cost:\",path.cost,\")\")\n",
    "            self.num_expanded += 1\n",
    "            if self.problem.is_goal(path.end()):\n",
    "                self.display(1, self.num_expanded, \"paths have been expanded and\", \n",
    "                             len(self.frontier), \"paths remain in the frontier\")\n",
    "                self.solution = path\n",
    "                return path\n",
    "            else:\n",
    "                neighs = self.problem.neighbors(path.end())\n",
    "                self.display(3,\"Neighbors are\", neighs)\n",
    "                for arc in reversed(list(neighs)):\n",
    "                    self.add_to_frontier(Path(path,arc))\n",
    "                self.display(3,\"Frontier:\",self.frontier)\n",
    "        self.display(1,\"No (more) solutions. Total of\",self.num_expanded,\"paths expanded.\")"
   ]
  },
  {
   "cell_type": "markdown",
   "metadata": {},
   "source": [
    "#### Task 2.2\n",
    "\n",
    "Implement a class that performs Iterative Deepening Search by extending class Searcher."
   ]
  },
  {
   "cell_type": "code",
   "execution_count": 40,
   "metadata": {},
   "outputs": [],
   "source": [
    "class IterativeDeepeningSearcher(Searcher):\n",
    "    def __init__(self, problem: Search_problem) -> None:\n",
    "        super().__init__(problem)\n",
    "        self.iterative_depth = 0\n",
    "        self.exceeded_threshold: list[Path] = []\n",
    "\n",
    "    def initialize_frontier(self) -> None:\n",
    "        self.frontier = []\n",
    "\n",
    "    def empty_frontier(self) -> bool:\n",
    "        return self.frontier == []\n",
    "\n",
    "    def add_to_frontier(self, path) -> None:\n",
    "        self.frontier.append(path)\n",
    "    \n",
    "    def search(self) -> None:\n",
    "        while not self.empty_frontier():\n",
    "            path = self.frontier.pop()\n",
    "            self.display(2, \"Expanding:\",path,\"(cost:\",path.cost,\")\")\n",
    "            self.num_expanded += 1\n",
    "            \n",
    "            if path.cost > self.iterative_depth:\n",
    "                self.display(2, \"Cannot continue, hit iterative depth limit\")\n",
    "                self.exceeded_threshold.append(path)\n",
    "                continue\n",
    "            elif self.problem.is_goal(path.end()):\n",
    "                self.display(1, self.num_expanded, \"paths have been expanded and\", \n",
    "                             len(self.frontier), \"paths remain in the frontier\")\n",
    "                self.solution = path\n",
    "                return path\n",
    "            else:\n",
    "                neighs = self.problem.neighbors(path.end())\n",
    "                self.display(3,\"Neighbors are\", neighs)\n",
    "                for arc in reversed(list(neighs)):\n",
    "                    self.add_to_frontier(Path(path,arc))\n",
    "                self.display(3,\"Frontier:\",self.frontier)\n",
    "\n",
    "        if self.exceeded_threshold == []:\n",
    "            self.display(1,\"No (more) solutions. Total of\",self.num_expanded,\"paths expanded.\")\n",
    "            return\n",
    "    \n",
    "        self.iterative_depth += min(map(lambda path: path.cost, self.exceeded_threshold))\n",
    "        self.add_to_frontier(Path(self.problem.start_node()))\n",
    "        self.exceeded_threshold = []\n",
    "        return self.search()"
   ]
  },
  {
   "cell_type": "markdown",
   "metadata": {},
   "source": [
    "#### Task 2.3\n",
    "Implement a class that performs Iterative Deepening A* Search by extending class Searcher."
   ]
  },
  {
   "cell_type": "code",
   "execution_count": 41,
   "metadata": {},
   "outputs": [],
   "source": [
    "class IterativeDeepeningAStarSearcher(Searcher):\n",
    "    def __init__(self, problem: Search_problem) -> None:\n",
    "        super().__init__(problem)\n",
    "        self.iterative_f_value_depth = self.problem.heuristic(problem.start_node())\n",
    "        self.exceeded_threshold: list[Path] = []\n",
    "            \n",
    "    def initialize_frontier(self) -> None:\n",
    "        self.frontier = FrontierPQ()\n",
    "\n",
    "    def empty_frontier(self) -> bool:\n",
    "        return self.frontier.empty()\n",
    "\n",
    "    def add_to_frontier(self,path) -> None:\n",
    "        self.frontier.add(path, path.cost + self.problem.heuristic(path.end()))\n",
    "    \n",
    "    def search(self) -> None:\n",
    "        while not self.empty_frontier():\n",
    "            path = self.frontier.pop()\n",
    "            f_value = path.cost + self.problem.heuristic(path.end())\n",
    "            self.display(2, \"Expanding:\",path,\"(cost:\",path.cost,\",f_value:\",f_value,\")\")\n",
    "            self.num_expanded += 1\n",
    "            \n",
    "            if f_value > self.iterative_f_value_depth:\n",
    "                self.display(2, \"Cannot continue, hit iterative f value depth level\")\n",
    "                self.exceeded_threshold.append(path)\n",
    "                continue\n",
    "            elif self.problem.is_goal(path.end()):\n",
    "                self.display(1, self.num_expanded, \"paths have been expanded and\", \n",
    "                             len(self.frontier), \"paths remain in the frontier\")\n",
    "                self.solution = path\n",
    "                return path\n",
    "            else:\n",
    "                neighs = self.problem.neighbors(path.end())\n",
    "                self.display(3,\"Neighbors are\", neighs)\n",
    "                for arc in reversed(list(neighs)):\n",
    "                    self.add_to_frontier(Path(path,arc))\n",
    "                self.display(3,\"Frontier:\",self.frontier)\n",
    "\n",
    "        if self.exceeded_threshold == []:\n",
    "            self.display(1,\"No (more) solutions. Total of\",self.num_expanded,\"paths expanded.\")\n",
    "            return\n",
    "        \n",
    "        self.iterative_f_value_depth = min(map(lambda path: path.cost + self.problem.heuristic(path.end()), self.exceeded_threshold))\n",
    "        self.add_to_frontier(Path(self.problem.start_node()))\n",
    "        self.exceeded_threshold = []\n",
    "        return self.search()"
   ]
  },
  {
   "cell_type": "markdown",
   "metadata": {},
   "source": [
    "#### Task 2.4\n",
    "Implement a class that performs Uniform Cost Search by extending class Searcher."
   ]
  },
  {
   "cell_type": "code",
   "execution_count": 43,
   "metadata": {},
   "outputs": [],
   "source": [
    "class UniformCostSearcher(Searcher):\n",
    "    def initialize_frontier(self):\n",
    "        self.frontier = FrontierPQ()\n",
    "\n",
    "    def empty_frontier(self):\n",
    "        return self.frontier.empty()\n",
    "\n",
    "    def add_to_frontier(self, path):\n",
    "        self.frontier.add(path, path.cost + self.problem.heuristic(path.end()))"
   ]
  },
  {
   "cell_type": "markdown",
   "metadata": {},
   "source": [
    "#### Task 2.5\n",
    "\n",
    "Run Breadth First Search (BFS), Iterative Deepenining Search (IDS), Iterative Deepening A* Search (IDA\\*S), and Uniform Cost Search (UCS) algorithms on each of the 5 start states:"
   ]
  },
  {
   "cell_type": "code",
   "execution_count": null,
   "metadata": {},
   "outputs": [],
   "source": [
    "# optimal path cost: 10\n",
    "start10 = [[2, 3, 7, 4],\n",
    "           [1, 6, 11, 8],\n",
    "           [5, 10, 0, 12],\n",
    "           [9, 13, 14, 15]]\n",
    "\n",
    "# optimal path cost: 24\n",
    "start24 = [[2, 7, 11, 4],\n",
    "           [6, 3, 12, 0],\n",
    "           [1, 5, 15, 8],\n",
    "           [9, 10, 13, 14]]\n",
    "\n",
    "# optimal path cost: 30\n",
    "start30 = [[2, 7, 11, 4],\n",
    "           [6, 3, 12, 0],\n",
    "           [1, 5, 15, 14],\n",
    "           [9, 10, 8, 13]]\n",
    "\n",
    "# optimal path cost: 36\n",
    "start36 = [[7, 11, 12, 4],\n",
    "           [2, 3, 14, 1],\n",
    "           [6, 5, 13, 8],\n",
    "           [9, 10, 15, 0]]\n",
    "\n",
    "# optimal path cost: 41\n",
    "start41 = [[7, 11, 12, 4],\n",
    "           [2, 3, 8, 14],\n",
    "           [10, 0, 5, 1],\n",
    "           [6, 9, 13, 15]]\n",
    "\n",
    "for start in [start10, start24, start30, start36, start41]:\n",
    "    print('Starting Position: ', start)\n",
    "    print('=========')\n",
    "    print('- Breadth First Search: ', end = '')\n",
    "    begin_search(BreadthFirstSearcher(GameFifteenProblem(start, goal)))\n",
    "    print('- A Star Search: ', end = '')\n",
    "    begin_search(AStarSearcher(GameFifteenProblem(start, goal)))\n",
    "    print('- Iterative Deepening Search: ', end = '')\n",
    "    begin_search(IterativeDeepeningSearcher(GameFifteenProblem(start, goal)))\n",
    "    print('- Iterative Deepening A Star Search: ', end = '')\n",
    "    begin_search(IterativeDeepeningAStarSearcher(GameFifteenProblem(start, goal)))\n",
    "    print('- Uniform Cost Search: ', end = '')\n",
    "    begin_search(UniformCostSearcher(GameFifteenProblem(start, goal)))"
   ]
  },
  {
   "cell_type": "markdown",
   "metadata": {},
   "source": [
    "In each case, record in the table below the number of nodes generated during the search. If the algorithm runs out of memory or the number of nodes in the frontier exceeds 1 million items, just write “Mem” in your table. If the code runs for five minutes without producing output, terminate the process and write “Time” in your table.\n",
    "\n",
    "*Tip: To edit the table double click the cell below.*"
   ]
  },
  {
   "cell_type": "markdown",
   "metadata": {},
   "source": [
    "| Algorithm | 10      | 24      | 30      | 36      | 41      |\n",
    "|-----------|---------|---------|---------|---------|---------|\n",
    "|BFS        | #       | #       | #       | #       | #       |\n",
    "|A*         | #       | #       | #       | #       | #       |\n",
    "|IDS        | #       | #       | #       | #       | #       |\n",
    "|IDA\\*S     | #       | #       | #       | #       | #       |\n",
    "|UCS        | #       | #       | #       | #       | #       |"
   ]
  },
  {
   "cell_type": "markdown",
   "metadata": {},
   "source": [
    "Discuss the time and space efficiency of these four algorithms, comment on the results in the table."
   ]
  },
  {
   "cell_type": "raw",
   "metadata": {},
   "source": [
    "# your answer"
   ]
  },
  {
   "cell_type": "markdown",
   "metadata": {},
   "source": [
    "### Part 3: Deceptive Starting States [3 marks]\n",
    "\n",
    "#### Task 3.1 \n",
    "\n",
    "Run IDA* on the starting states below and report the number of the expanded nodes."
   ]
  },
  {
   "cell_type": "code",
   "execution_count": 48,
   "metadata": {},
   "outputs": [
    {
     "name": "stdout",
     "output_type": "stream",
     "text": [
      "=========\n",
      "Starting Position:  [[7, 11, 12, 4], [2, 3, 14, 1], [6, 5, 13, 0], [9, 10, 15, 8]]\n",
      "115348 paths have been expanded and 162507 paths remain in the frontier\n",
      "Cost:  37\n",
      "=========\n",
      "Starting Position:  [[7, 11, 12, 4], [2, 3, 8, 14], [6, 0, 1, 15], [9, 5, 10, 13]]\n",
      "4476 paths have been expanded and 4976 paths remain in the frontier\n",
      "Cost:  37\n"
     ]
    }
   ],
   "source": [
    "start37_1 = [[7, 11, 12, 4],\n",
    "             [2, 3, 14, 1],\n",
    "             [6, 5, 13, 0],\n",
    "             [9, 10, 15, 8]]\n",
    "\n",
    "start37_2 = [[7, 11, 12, 4],\n",
    "             [2, 3, 8, 14],\n",
    "             [6, 0, 1, 15],\n",
    "             [9, 5, 10, 13]]\n",
    "\n",
    "for start in [start37_1, start37_2]:\n",
    "    print('=========')\n",
    "    print('Starting Position: ', start)\n",
    "    puzzle = GameFifteenProblem(start, goal)\n",
    "    searcher = IterativeDeepeningAStarSearcher(puzzle)\n",
    "    solution = searcher.search()\n",
    "    print('Cost: ',  solution.cost)"
   ]
  },
  {
   "cell_type": "markdown",
   "metadata": {},
   "source": [
    "#### Task 3.2\n",
    "\n",
    "Explain why there is a difference between the number of the expanded nodes for these starting states if their costs of the optimal paths are the same."
   ]
  },
  {
   "cell_type": "raw",
   "metadata": {},
   "source": []
  },
  {
   "cell_type": "markdown",
   "metadata": {},
   "source": [
    "### Part 4:  Constraint Satisfaction Problem [5 marks]\n",
    "\n",
    "This part of the assignment is based on another puzzle called Sudoku. The game consists of 9x9 grid with a few cells filled in with digits. The objective of the game is to fill the remaining cells so that each column, each row, and each of the nine 3×3 sub-grids contain all of the digits from 1 to 9.\n",
    "\n",
    "The start state of the puzzle is defined as a multidimensional array of numbers, where 0 represents empty cells, for example:"
   ]
  },
  {
   "cell_type": "code",
   "execution_count": null,
   "metadata": {},
   "outputs": [],
   "source": [
    "grid = [[9, 5, 0, 8, 2, 7, 3, 0, 0],\n",
    "        [0, 8, 0, 1, 4, 0, 0, 5, 0],\n",
    "        [0, 1, 0, 5, 9, 0, 0, 0, 0],\n",
    "        [8, 3, 0, 0, 0, 0, 0, 7, 5],\n",
    "        [1, 6, 9, 7, 5, 2, 4, 3, 0],\n",
    "        [0, 7, 0, 0, 8, 0, 0, 6, 0],\n",
    "        [0, 9, 1, 0, 6, 0, 8, 4, 0],\n",
    "        [7, 0, 8, 0, 3, 1, 0, 0, 6],\n",
    "        [6, 2, 0, 4, 7, 8, 0, 9, 0]]"
   ]
  },
  {
   "cell_type": "markdown",
   "metadata": {},
   "source": [
    "*Tip: If you have problems with understanding how to implement constrains take a look at cspExamples.py and cspExamplesQueens.py*"
   ]
  },
  {
   "cell_type": "markdown",
   "metadata": {},
   "source": [
    "#### Task 4.1\n",
    "\n",
    "Write the code that defines constraint(s) and a function grid_to_csp that returns a CSP for a Sudoku puzzle:"
   ]
  },
  {
   "cell_type": "code",
   "execution_count": null,
   "metadata": {},
   "outputs": [],
   "source": [
    "def grid_to_csp(grid):\n",
    "    \"\"\"returns a soduko constraint satisfaction problem\"\"\"\n",
    "    \n",
    "    def cross(A,B): return [a+b for a in A for b in B]\n",
    "    rows, cols = 'ABCDEFGHI', '123456789'\n",
    "    \n",
    "    \"\"\"a unit generalises cells that are collections defined by row, column or box\"\"\"\n",
    "    unit_list = (\n",
    "            [cross(rows, col) for col in cols] +\n",
    "            [cross(row, cols) for row in rows] +\n",
    "            [cross(box_rows, box_cols) for box_rows in ('ABC','DEF','GHI') for box_cols in ('123','456','789')]\n",
    "    )\n",
    "\n",
    "    domains = {}\n",
    "    for row_index, row in enumerate(grid):\n",
    "        for col_index, value in enumerate(row):\n",
    "            square_index = rows[row_index] + cols[col_index]\n",
    "\n",
    "            match value:\n",
    "              case 0: # we interpret zero's as being anything\n",
    "                  domains[square_index] = Variable(square_index, {1, 2, 3, 4, 5, 6, 7, 8, 9})\n",
    "              case _: # anything else is the starter value hence reducing the domain to just that value\n",
    "                  domains[square_index] = Variable(square_index, {value})\n",
    "\n",
    "    constraints = []\n",
    "    for square_index, variable in domains.items():\n",
    "        must_be_different_to = set()\n",
    "        for unit in [unit for unit in unit_list if square_index in unit]:\n",
    "            must_be_different_to = must_be_different_to | set([cell for cell in unit])\n",
    "        must_be_different_to.remove(square_index)\n",
    "                \n",
    "        def not_equal(x,y): return x != y\n",
    "        for square in must_be_different_to:\n",
    "            constraints.append(Constraint([variable, domains[square]], not_equal))\n",
    "\n",
    "    \n",
    "    return CSP(\"soduku\", {variable for _, variable in domains.items()}, constraints)"
   ]
  },
  {
   "cell_type": "markdown",
   "metadata": {},
   "source": [
    "#### Task 4.2\n",
    "\n",
    "Write the code that solves Sudoku csp using a search algorithms of your choice, print the solution."
   ]
  },
  {
   "cell_type": "code",
   "execution_count": 64,
   "metadata": {},
   "outputs": [
    {
     "data": {
      "text/plain": [
       "228296"
      ]
     },
     "execution_count": 64,
     "metadata": {},
     "output_type": "execute_result"
    }
   ],
   "source": [
    "# your code\n",
    "# csp_problem = grid_to_csp(grid)\n",
    "# search_problem = Search_from_CSP(csp_problem)\n",
    "# dfs = Searcher(search_problem) TODO: constraint propogation techniques etc...\n",
    "# dfs.search()\n",
    "\n",
    "dfs.num_expanded\n",
    "# len(search_problem.variables)"
   ]
  },
  {
   "cell_type": "markdown",
   "metadata": {},
   "source": [
    "#### Task 4.3\n",
    "\n",
    "Descibe what do nodes represent in the search tree. Explain your choice of the search algorithm and compare it with any other search algorithm implemented in this assignment. "
   ]
  },
  {
   "cell_type": "raw",
   "metadata": {},
   "source": [
    "Each node represents a "
   ]
  }
 ],
 "metadata": {
  "kernelspec": {
   "display_name": "Python 3 (ipykernel)",
   "language": "python",
   "name": "python3"
  },
  "language_info": {
   "codemirror_mode": {
    "name": "ipython",
    "version": 3
   },
   "file_extension": ".py",
   "mimetype": "text/x-python",
   "name": "python",
   "nbconvert_exporter": "python",
   "pygments_lexer": "ipython3",
   "version": "3.10.3"
  }
 },
 "nbformat": 4,
 "nbformat_minor": 2
}
